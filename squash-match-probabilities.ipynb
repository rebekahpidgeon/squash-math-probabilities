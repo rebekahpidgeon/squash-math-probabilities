{
 "cells": [
  {
   "cell_type": "code",
   "execution_count": 2,
   "metadata": {},
   "outputs": [],
   "source": [
    "# You may add additional imports here\n",
    "import random\n",
    "import matplotlib.pyplot as plt\n",
    "import csv"
   ]
  },
  {
   "cell_type": "markdown",
   "metadata": {},
   "source": [
    "Question 1\n",
    "==========\n",
    "\n",
    "All parts of Question 1 use the _point-a-rally (PARS) scoring_ system.\n",
    "\n",
    "**Question 1a:** Complete the following function so that it implements the PARS algorithm from the coursework specification.\n",
    "\n",
    "**[Functionality: 7 marks]**"
   ]
  },
  {
   "cell_type": "code",
   "execution_count": 3,
   "metadata": {},
   "outputs": [],
   "source": [
    "def game(ra, rb):\n",
    "    a_wins = 0\n",
    "    b_wins = 0\n",
    "    choices = [\"a\", \"b\"]\n",
    "    prob_a = ra / (ra + rb)\n",
    "    prob_b = 1 - prob_a\n",
    "    while (a_wins < 11 and b_wins < 11) or ((a_wins - 2) <= b_wins and (b_wins - 2) <= a_wins):\n",
    "        winner = random.choices(choices, weights = (prob_a, prob_b))\n",
    "        if winner == ['a']:\n",
    "            a_wins += 1\n",
    "        elif winner == ['b']:\n",
    "            b_wins += 1\n",
    "    return a_wins, b_wins\n"
   ]
  },
  {
   "cell_type": "markdown",
   "metadata": {},
   "source": [
    "**Testing:** If the random seed is set to 57, then calling the function with arguments `70` and `30` should return `(11,5)`."
   ]
  },
  {
   "cell_type": "code",
   "execution_count": 4,
   "metadata": {},
   "outputs": [
    {
     "name": "stdout",
     "output_type": "stream",
     "text": [
      "(11, 5)\n"
     ]
    }
   ],
   "source": [
    "random.seed(57)\n",
    "print(game(70,30))"
   ]
  },
  {
   "cell_type": "markdown",
   "metadata": {},
   "source": [
    "**Question 1b:** Complete the following function `win_probability_game(ra, rb, simulations)` to simulate `simulations` games in order to estimate the probability that a player with ability `ra` will win a game against a player of ability `rb`.\n",
    "\n",
    "**[Functionality: 4 marks]**"
   ]
  },
  {
   "cell_type": "code",
   "execution_count": 5,
   "metadata": {},
   "outputs": [],
   "source": [
    "def win_probability_game(ra, rb, simulations):\n",
    "    a_wins = 0\n",
    "    b_wins = 0\n",
    "    for i in range(simulations - 1):\n",
    "        score = game(ra, rb)\n",
    "        if score[0] > score[1]:\n",
    "            a_wins += 1\n",
    "        else:\n",
    "            b_wins += 1\n",
    "    total_wins = a_wins + b_wins\n",
    "    prob_a = a_wins / total_wins\n",
    "    return prob_a\n"
   ]
  },
  {
   "cell_type": "markdown",
   "metadata": {},
   "source": [
    "**Testing:** Given sufficient simulations, calling the function with abilities `70` and `30` should give the answer `0.98` when printed to 2 decimal places."
   ]
  },
  {
   "cell_type": "code",
   "execution_count": 6,
   "metadata": {},
   "outputs": [
    {
     "name": "stdout",
     "output_type": "stream",
     "text": [
      "0.98\n"
     ]
    }
   ],
   "source": [
    "# Print win_probability_game(70, 30, print(round(winProbability(70, 30), 2))) to 2 decimal places for a suitable value of n\n",
    "print(round(win_probability_game(70,30,20000),2))"
   ]
  },
  {
   "cell_type": "markdown",
   "metadata": {},
   "source": [
    "**Question 1c:** Assume players abilities are given in a csv file with the format:\n",
    "```\n",
    "player a ability, player b ability,\n",
    "60, 20,\n",
    "100, 55,\n",
    "50, 40,\n",
    "20, 70,\n",
    "95, 85,\n",
    "```\n",
    "Complete the following function to read in a specified csv file of this format and return a `list` of `tuple`s containing each pair of abilities.\n",
    "\n",
    "**[Functionality: 4 marks]**"
   ]
  },
  {
   "cell_type": "code",
   "execution_count": 7,
   "metadata": {},
   "outputs": [],
   "source": [
    "def read_abilities(abilities): # HINT: what should the argument be?\n",
    "    with open(abilities) as csvfile:\n",
    "        file = csv.reader(csvfile)\n",
    "        next(file, None)\n",
    "        pairs = []\n",
    "        for row in file:\n",
    "            pairs.append((int(row[0]), int(row[1])))\n",
    "        return pairs"
   ]
  },
  {
   "cell_type": "markdown",
   "metadata": {},
   "source": [
    "**Testing:** Calling the function to read the file `test.csv` from Learning Central should return `[(60, 20), (100, 55), (50, 40), (20, 70), (95, 85)]`"
   ]
  },
  {
   "cell_type": "code",
   "execution_count": 8,
   "metadata": {},
   "outputs": [
    {
     "name": "stdout",
     "output_type": "stream",
     "text": [
      "[(60, 20), (100, 55), (50, 40), (20, 70), (95, 85)]\n"
     ]
    }
   ],
   "source": [
    "print(read_abilities('test.csv'))"
   ]
  },
  {
   "cell_type": "markdown",
   "metadata": {},
   "source": [
    "**Question 1d:** Write a function that takes a `list` of the format returned by your answer to 1c as an argument, and uses `matplotlib` to produce a plot (with labelled axes) showing the probability that player a beats player b (in a game) against `ra / r_b` for each pair.\n",
    "\n",
    "**[Functionality: 5 marks]**"
   ]
  },
  {
   "cell_type": "code",
   "execution_count": 9,
   "metadata": {},
   "outputs": [],
   "source": [
    "def plot_win_probabilities(abilities): \n",
    "    probs_a = []\n",
    "    rarb = []\n",
    "    # HINT: what should the argument be?\n",
    "    for ability in abilities:\n",
    "        probs_a.append(win_probability_game(ability[0], ability[1], 20000))\n",
    "        rarb.append(ability[0]/ability[1])\n",
    "    plt.plot(rarb, probs_a, 'bo')\n",
    "    plt.xlabel('ra / rb')\n",
    "    plt.ylabel('Probability A wins')\n",
    "    plt.show()\n"
   ]
  },
  {
   "cell_type": "markdown",
   "metadata": {},
   "source": [
    "**Testing:** The following figure (or similar) should result from the data `[(60, 20), (100, 55), (50, 40), (20, 70), (95, 85)]'\n",
    "\n",
    "<img src=\"./win_probabilities.png\" alt=\"Win probabilities\" width=\"500\">\n"
   ]
  },
  {
   "cell_type": "code",
   "execution_count": 10,
   "metadata": {},
   "outputs": [
    {
     "data": {
      "image/png": "[encoded data removed]",
      "text/plain": [
       "<Figure size 432x288 with 1 Axes>"
      ]
     },
     "metadata": {
      "needs_background": "light"
     },
     "output_type": "display_data"
    }
   ],
   "source": [
    "plot_win_probabilities(read_abilities('test.csv'))"
   ]
  },
  {
   "cell_type": "markdown",
   "metadata": {},
   "source": [
    "**Question 1e:** Complete the following function `win_probability_match(ra, rb, simulations, m)` to simulate `simulations` matches which are won by the first player to win `m` games, and returns an estimate of the probability that a player with ability `ra` will win such a match against a player of ability `rb`.\n",
    "\n",
    "Provide code that works out the smallest value of `m` such that `win_probability_match(60, 40, simulations, m)` is at least `0.9`. \n",
    "\n",
    "_HINT: make sure you use an appropriate value for `simulations`._\n",
    "\n",
    "**[Functionality: 5 marks]**"
   ]
  },
  {
   "cell_type": "code",
   "execution_count": 11,
   "metadata": {},
   "outputs": [
    {
     "data": {
      "text/plain": [
       "2"
      ]
     },
     "execution_count": 11,
     "metadata": {},
     "output_type": "execute_result"
    }
   ],
   "source": [
    "def match(ra, rb, m):\n",
    "    a_wins = 0\n",
    "    b_wins = 0\n",
    "    while b_wins < m and a_wins < m:\n",
    "        one_game = game(ra, rb)\n",
    "        if one_game[0] > one_game[1]:\n",
    "            a_wins += 1\n",
    "        else:\n",
    "            b_wins += 1\n",
    "    return a_wins, b_wins\n",
    "\n",
    "def win_probability_match(ra, rb, simulations, m):\n",
    "    a_wins = 0\n",
    "    b_wins = 0\n",
    "    for simulation in range(1, simulations):\n",
    "        one_match = match(ra, rb, m)\n",
    "        if one_match[0] > one_match[1]:\n",
    "            a_wins += 1\n",
    "        else:\n",
    "            b_wins += 1\n",
    "    total_matches = a_wins + b_wins\n",
    "    prob_a = a_wins / total_matches\n",
    "    return prob_a\n",
    "\n",
    "def min_m():\n",
    "    m = 0\n",
    "    while win_probability_match(60,40,2000,m) < 0.9:\n",
    "        m += 1\n",
    "    return m\n",
    "\n",
    "min_m()"
   ]
  },
  {
   "cell_type": "markdown",
   "metadata": {},
   "source": [
    "Question 2\n",
    "==========\n",
    "\n",
    "Complete the remaining template of a scientific report that uses the results of simulation (with suitable input data) to investigate whether English or PARS is the ``better'' scoring method for squash matches. \n",
    "\n",
    "You should clearly state any assumptions you make, and may add any number of code cells. Guidance for completing the markdown/text cells is given in the coursework specification. The word count of the remaining markdown/text cells must be at most 750.\n",
    "\n",
    "Your investigation should consider the relative ability of the two players (i.e. `ra/rb`) as the _independent variable_ and include appropriate figures that show how your choice of relevant _dependent variable_ varies. Your results **must** cover at least 50 different values of `ra/rb`.\n",
    "\n",
    "Some starting points you may consider:\n",
    "- How _fair_ is the scoring method - does the better player usually win?\n",
    "- Shorter matches are usually preferable (e.g. for television) - if you assume each rally in a match takes equal time, how long do matches typically last?\n",
    "- What effect does the relative ability of the two players have?\n",
    "\n",
    "**[Report: 7 marks; Achievement: 8 marks]**"
   ]
  },
  {
   "cell_type": "markdown",
   "metadata": {},
   "source": [
    "## Problem"
   ]
  },
  {
   "cell_type": "markdown",
   "metadata": {},
   "source": [
    "In my investigation, I will be comparing the probabilities of a given player winning a match in both scoring systems as well as the average number of rallies required for a player to win a match. The scoring method with the highest probability that the player with the highest ability will win and which results in the shortest match (the least rallies) is defined as the \"better\" scoring method. "
   ]
  },
  {
   "cell_type": "markdown",
   "metadata": {},
   "source": [
    "## Method"
   ]
  },
  {
   "cell_type": "markdown",
   "metadata": {},
   "source": [
    "I will be simulating 2000 'best of five' matches each for 50 sets of two players with randomised abilities, for each scoring method. I will then calculate the probability that a given player will win a match. I will represent this data graphically, with ra / rb (x axis) plotted against the probability that a will win (y axis) for each scoring method which can then be compared. I will then calculate the average number of rallies for a match for both scoring methods and represent this graphically, with ra / rb (x axis) plotted against the time taken for a match in minutes (y axis). These can be compared to find which scoring method gives the shortest match. "
   ]
  },
  {
   "cell_type": "code",
   "execution_count": 12,
   "metadata": {},
   "outputs": [],
   "source": [
    "player_sets = [(random.randrange(1,101), random.randrange(1,101)) for i in range(50)]\n",
    "\n",
    "def english_game(ra, rb):\n",
    "    a_wins = 0\n",
    "    b_wins = 0\n",
    "    choices = [\"a\", \"b\"]\n",
    "    prob_a = ra / (ra + rb)\n",
    "    prob_b = 1 - prob_a\n",
    "    score_to_win = 9\n",
    "    decision = random.randint(0, 1)\n",
    "    chosen = False\n",
    "    returns = 0\n",
    "    if decision == 1:\n",
    "        server = ['a']\n",
    "        returner = ['b']\n",
    "    else:\n",
    "        server = ['b']\n",
    "        returner = ['a']\n",
    "    while a_wins < score_to_win and b_wins < score_to_win:\n",
    "        winner = random.choices(choices, weights = (prob_a, prob_b))\n",
    "        if winner == ['a'] and winner == server:\n",
    "            a_wins += 1\n",
    "        elif winner == ['b'] and winner == server:\n",
    "             b_wins += 1\n",
    "        elif winner == returner:\n",
    "            temp = returner\n",
    "            returner = server\n",
    "            server = temp\n",
    "            returns += 1\n",
    "        if a_wins == 8 and b_wins == 8 and chosen == False:\n",
    "            score_to_win = random.randint(9,10)\n",
    "            chosen = True\n",
    "    return a_wins, b_wins, returns\n",
    "\n",
    "def english_match(ra, rb, m):\n",
    "    a_wins = 0\n",
    "    b_wins = 0\n",
    "    while b_wins < m and a_wins < m:\n",
    "        one_game = english_game(ra, rb)\n",
    "        if one_game[0] > one_game[1]:\n",
    "            a_wins += 1\n",
    "        else:\n",
    "            b_wins += 1\n",
    "    return a_wins, b_wins\n",
    "\n",
    "def win_probability_english_match(ra, rb, simulations, m):\n",
    "    a_wins = 0\n",
    "    b_wins = 0\n",
    "    for simulation in range(1, simulations):\n",
    "        one_match = english_match(ra, rb, m)\n",
    "        if one_match[0] > one_match[1]:\n",
    "            a_wins += 1\n",
    "        else:\n",
    "            b_wins += 1\n",
    "    total_matches = a_wins + b_wins\n",
    "    prob_a = a_wins / total_matches\n",
    "    return prob_a"
   ]
  },
  {
   "cell_type": "code",
   "execution_count": 13,
   "metadata": {},
   "outputs": [],
   "source": [
    "def eng_match_prob_plot():\n",
    "    match_probs = []\n",
    "    for player_set in player_sets:\n",
    "        match_probs.append(win_probability_english_match(player_set[0], player_set[1], 2000, 3))\n",
    "    return match_probs\n",
    "\n",
    "def pars_match_prob_plot():\n",
    "    match_probs = []\n",
    "    for player_set in player_sets:\n",
    "        match_probs.append(win_probability_match(player_set[0], player_set[1], 2000, 3))\n",
    "    return match_probs\n",
    "\n",
    "def plot_prob_graph(player_sets):\n",
    "    rarb = []\n",
    "    for player_set in player_sets:\n",
    "        rarb.append(player_set[0] / player_set[1])\n",
    "        \n",
    "    plt.plot(rarb, eng_match_prob_plot(), 'bo')\n",
    "    plt.plot(rarb, pars_match_prob_plot(), 'ro')\n",
    "    plt.title('Probability A wins vs. ra / rb')\n",
    "    plt.axis([0,2,0,1])\n",
    "    plt.xlabel('ra / rb')\n",
    "    plt.ylabel('Probability A wins')\n",
    "    plt.legend(['English Method', 'PARS Method'], loc = \"lower right\")\n",
    "    plt.show()"
   ]
  },
  {
   "cell_type": "code",
   "execution_count": 14,
   "metadata": {},
   "outputs": [
    {
     "name": "stdout",
     "output_type": "stream",
     "text": [
      "114.4115\n",
      "84.8105\n"
     ]
    }
   ],
   "source": [
    "def rallies_eng_game(ra, rb): \n",
    "    one_game = english_game(ra, rb)\n",
    "    rallies = one_game[0] + one_game[1] + one_game[2]\n",
    "    if one_game[0] > one_game[1]:\n",
    "        winner = \"a\"\n",
    "    else:\n",
    "        winner = \"b\"\n",
    "    return rallies, winner\n",
    "\n",
    "def rallies_eng_match(ra, rb, m):\n",
    "    a_wins = 0\n",
    "    b_wins = 0\n",
    "    total_rallies = 0\n",
    "    while a_wins < m and b_wins < m:\n",
    "        rally = rallies_eng_game(ra, rb)\n",
    "        total_rallies += rally[0]\n",
    "        if rally[1] == \"a\":\n",
    "            a_wins += 1\n",
    "        else:\n",
    "            b_wins += 1\n",
    "    return total_rallies\n",
    "\n",
    "def time_eng_match(ra, rb, m, simulations): #assuming one rally lasts for one minute\n",
    "    total_time = 0\n",
    "    for i in range(1, simulations):\n",
    "        total_time += rallies_eng_match(ra, rb, m)\n",
    "    time = total_time / simulations\n",
    "    return time\n",
    "\n",
    "def rallies_pars_game(ra, rb): \n",
    "    one_game = game(ra, rb)\n",
    "    rallies = one_game[0] + one_game[1]\n",
    "    if one_game[0] > one_game[1]:\n",
    "        winner = \"a\"\n",
    "    else:\n",
    "        winner = \"b\"\n",
    "    return rallies, winner\n",
    "\n",
    "def rallies_pars_match(ra, rb, m):\n",
    "    a_wins = 0\n",
    "    b_wins = 0\n",
    "    total_rallies = 0\n",
    "    while a_wins < m and b_wins < m:\n",
    "        rally = rallies_pars_game(ra, rb)\n",
    "        total_rallies += rally[0]\n",
    "        if rally[1] == \"a\":\n",
    "            a_wins += 1\n",
    "        else:\n",
    "            b_wins += 1\n",
    "    return total_rallies\n",
    "\n",
    "def time_pars_match(ra, rb, m, simulations): #assuming one rally lasts for one minute\n",
    "    total_time = 0\n",
    "    for i in range(1, simulations):\n",
    "        total_time += rallies_pars_match(ra, rb, m)\n",
    "    time = total_time / simulations\n",
    "    return time\n",
    "\n",
    "print(time_eng_match(50, 50, 3, 2000))\n",
    "print(time_pars_match(50, 50, 3, 2000))"
   ]
  },
  {
   "cell_type": "code",
   "execution_count": 15,
   "metadata": {},
   "outputs": [],
   "source": [
    "def eng_match_time_plot():\n",
    "    match_times = []\n",
    "    for player_set in player_sets:\n",
    "        match_times.append(time_eng_match(player_set[0], player_set[1], 3, 2000))\n",
    "    return match_times\n",
    "\n",
    "def pars_match_time_plot():\n",
    "    match_times = []\n",
    "    for player_set in player_sets:\n",
    "        match_times.append(time_pars_match(player_set[0], player_set[1], 3, 2000))\n",
    "    return match_times\n",
    "\n",
    "def plot_time_graph(player_sets):\n",
    "    rarb = []\n",
    "    for player_set in player_sets:\n",
    "        rarb.append(player_set[0] / player_set[1])\n",
    "        \n",
    "    plt.plot(rarb, eng_match_time_plot(), 'bo')\n",
    "    plt.plot(rarb, pars_match_time_plot(), 'ro')\n",
    "    plt.title('Average time for a match vs. ra / rb')\n",
    "    plt.axis([0,2,0,120])\n",
    "    plt.xlabel('ra / rb')\n",
    "    plt.ylabel('Time taken for a match (min)')\n",
    "    plt.legend(['English Method', 'PARS Method'], loc = \"lower right\")\n",
    "    plt.show()"
   ]
  },
  {
   "cell_type": "markdown",
   "metadata": {},
   "source": [
    "## Assumptions"
   ]
  },
  {
   "cell_type": "markdown",
   "metadata": {},
   "source": [
    "1) Player's ability can be represented by an integer between 1 and 100\n",
    "2) Player's ability never changes throughout the game\n",
    "3) In the English scoring method, if the score reaches 8:8 the player who decides whether they play to 9 or 10 has a 50/50 chance to choose either 9 or 10\n",
    "4) One rally lasts for one minute\n",
    "5) Being either a server or a returner doesn't affect the probability that either will win a point"
   ]
  },
  {
   "cell_type": "markdown",
   "metadata": {},
   "source": [
    "## Results"
   ]
  },
  {
   "cell_type": "markdown",
   "metadata": {},
   "source": [
    "Using the helper functions from my method, I have plotted a graph of the probability of the given player A winning against ra / rb for both scoring methods. I have also plotted a graph of the average time for one match against ra / rb for both scoring methods. "
   ]
  },
  {
   "cell_type": "code",
   "execution_count": 16,
   "metadata": {},
   "outputs": [
    {
     "data": {
      "image/png": "[encoded data removed]",
      "text/plain": [
       "<Figure size 432x288 with 1 Axes>"
      ]
     },
     "metadata": {
      "needs_background": "light"
     },
     "output_type": "display_data"
    }
   ],
   "source": [
    "plot_prob_graph(player_sets)"
   ]
  },
  {
   "cell_type": "code",
   "execution_count": 17,
   "metadata": {},
   "outputs": [
    {
     "data": {
      "image/png": "[encoded data removed]",
      "text/plain": [
       "<Figure size 432x288 with 1 Axes>"
      ]
     },
     "metadata": {
      "needs_background": "light"
     },
     "output_type": "display_data"
    }
   ],
   "source": [
    "plot_time_graph(player_sets)"
   ]
  },
  {
   "cell_type": "markdown",
   "metadata": {},
   "source": [
    "## Conclusions"
   ]
  },
  {
   "cell_type": "markdown",
   "metadata": {},
   "source": [
    "The 'Probability A wins vs. ra/rb' graph shows a positive correlation for both scoring methods. There are no significant differences in the graphs shown for both scoring methods. From this I can conclude that it is no more likely for the better player to win using either scoring method. The 'Average time for a match vs. ra/rb' graph shows that as ra/rb increases up to 1, the time taken for a match increases and then decreases as ra/rb increases past this point. After ra/rb reaches 0.25, the average time for an average match is always lower for the PARS method than the English method. At the peak at 1 ra/rb, the time taken for a match using the English method is 114.4 minutes, whereas using the PARS method it is 84.8 minutes (both rounded to 1 decimal place). From this, I can conclude that using the PARS method usually results in a shorter match, which is preferred for professional matches. Therefore, the PARS scoring method is the better scoring method."
   ]
  }
 ],
 "metadata": {
  "interpreter": {
   "hash": "183b6f3dd52b9ae2bd385afe1588cc6cf56d78005d888e2b09b3c195f16f84ec"
  },
  "kernelspec": {
   "display_name": "Python 3",
   "language": "python",
   "name": "python3"
  },
  "language_info": {
   "codemirror_mode": {
    "name": "ipython",
    "version": 3
   },
   "file_extension": ".py",
   "mimetype": "text/x-python",
   "name": "python",
   "nbconvert_exporter": "python",
   "pygments_lexer": "ipython3",
   "version": "3.8.8"
  }
 },
 "nbformat": 4,
 "nbformat_minor": 4
}
